{
 "cells": [
  {
   "cell_type": "code",
   "execution_count": 106,
   "id": "90ee7425",
   "metadata": {},
   "outputs": [],
   "source": [
    "import requests\n",
    "from key import api_key\n",
    "from newsapi import NewsApiClient\n",
    "import pandas as pd\n",
    "from datetime import datetime, timedelta\n"
   ]
  },
  {
   "cell_type": "code",
   "execution_count": 120,
   "id": "c6b513cd",
   "metadata": {},
   "outputs": [],
   "source": [
    "company_names = [\n",
    "    'Altice Portugal, S.A.',\n",
    "    'Banco Comercial Português, S.A.',\n",
    "    'Sociedade Lusa de Negócios, SGPS, S.A.',\n",
    "    'Cofina, SGPS, S.A.',\n",
    "    'Corticeira Amorim, SGPS, S.A.',\n",
    "    'CTT - Correios de Portugal, S.A.',\n",
    "    'EDP - Energias de Portugal, S.A.',\n",
    "    'EDP Renováveis, S.A.',\n",
    "    'Efacec Power Solutions, S.A.',\n",
    "    'F.C. Porto – Futebol, SAD',\n",
    "    'Galp Energia, SGPS, S.A.',\n",
    "    'Global Media Group, SGPS, S.A.',\n",
    "    'GreenVolt - Energias Renováveis, S.A.',\n",
    "    'IBS – Indústria e Comércio de Baterias, S.A.',\n",
    "    'Impresa - Sociedade Gestora de Participações Sociais, S.A.',\n",
    "    'Inapa – Investimentos, Participações e Gestão, S.A.',\n",
    "    'Jerónimo Martins, SGPS, S.A.',\n",
    "    'Laboratórios Inibsa, S.A.',\n",
    "    'Marshall Monteiro – Investimentos Imobiliários, S.A.',\n",
    "    'Mota-Engil, SGPS, S.A.',\n",
    "    'Sonae Capital, SGPS, S.A.',\n",
    "    'Mota-Engil – Engenharia e Construção, S.A.',\n",
    "    'NOS, SGPS, S.A.',\n",
    "    'Novabase – Sistemas de Informação, S.A.',\n",
    "    'Pharol, SGPS, S.A.',\n",
    "    'Reditus – Sociedade Gestora de Participações Sociais, S.A.',\n",
    "    'REN - Redes Energéticas Nacionais, SGPS, S.A.',\n",
    "    'REN - Renováveis, Energias do Norte, S.A.',\n",
    "    'Semapa – Sociedade de Investimento e Gestão, SGPS, S.A.',\n",
    "    'Sonaecom, SGPS, S.A.',\n",
    "    'Sonae, SGPS, S.A.',\n",
    "    'Sonae Sierra, SGPS, S.A.',\n",
    "    'Sociedade Comercial do Plátano, S.A.',\n",
    "    'TDS – Sociedade de Titularização de Créditos, S.A.',\n",
    "    'Novabase Valorização de Activos, S.A.',\n",
    "    'Vanguard Properties, SGPS, S.A.',\n",
    "    'STOXX Europe 50',\n",
    "    'VSTOXX®'\n",
    "    'PSI-20',\n",
    "]\n",
    "\n",
    "API_KEY = api_key()\n",
    "\n",
    "# Get today's date\n",
    "today = datetime.now()\n",
    "end = today.strftime('%Y-%m-%d')\n",
    "# Calculate the date 1 month ago\n",
    "one_month_before = today - timedelta(days=28)\n",
    "start = one_month_before.strftime('%Y-%m-%d')\n",
    "url = 'https://newsapi.org/v2/everything'\n",
    "params = {\n",
    "    'q': 'NOS, SGPS, S.A.',\n",
    "    'from': start,\n",
    "    'to': end,\n",
    "    'sortBy': 'publishedAt',\n",
    "    'apiKey': API_KEY,\n",
    "}\n",
    "\n",
    "# Prompt the user for the search query\n",
    "\"\"\"query = input('Enter the search query: ')\n",
    "params['q'] = query\"\"\"\n",
    "\n",
    "response = requests.get(url, params=params)\n",
    "news=  pd.DataFrame()\n",
    "if response.status_code == 200:\n",
    "    data = response.json()\n",
    "    # Process the response data as needed\n",
    "    articles = data['articles']\n",
    "    news = pd.json_normalize(articles)\n",
    "    \"\"\"for article in articles:\n",
    "        # Extract and print relevant information from each article\n",
    "        print(news['title'], news['description'], news['url'])\"\"\"\n",
    "else:\n",
    "    print('Request failed with status code:', response.status_code)\n"
   ]
  },
  {
   "cell_type": "code",
   "execution_count": 122,
   "id": "3c665c9b",
   "metadata": {},
   "outputs": [],
   "source": [
    "\n",
    "news = news[[\"publishedAt\", \"title\", \"description\", \"url\"]]\n"
   ]
  },
  {
   "cell_type": "code",
   "execution_count": 123,
   "id": "aed441d3",
   "metadata": {},
   "outputs": [
    {
     "data": {
      "text/plain": [
       "'Greenvolt Energias Renováveis S A : - Energias Renováveis, S.A. informa sobre participação qualificada de PROMENDO INVESTIMENTOS, S.A.'"
      ]
     },
     "execution_count": 123,
     "metadata": {},
     "output_type": "execute_result"
    }
   ],
   "source": [
    "news.title[0]"
   ]
  },
  {
   "cell_type": "code",
   "execution_count": null,
   "id": "599ac6c3",
   "metadata": {},
   "outputs": [],
   "source": []
  },
  {
   "cell_type": "code",
   "execution_count": null,
   "id": "f806a209",
   "metadata": {},
   "outputs": [],
   "source": []
  }
 ],
 "metadata": {
  "kernelspec": {
   "display_name": "Python 3 (ipykernel)",
   "language": "python",
   "name": "python3"
  },
  "language_info": {
   "codemirror_mode": {
    "name": "ipython",
    "version": 3
   },
   "file_extension": ".py",
   "mimetype": "text/x-python",
   "name": "python",
   "nbconvert_exporter": "python",
   "pygments_lexer": "ipython3",
   "version": "3.9.13"
  }
 },
 "nbformat": 4,
 "nbformat_minor": 5
}
